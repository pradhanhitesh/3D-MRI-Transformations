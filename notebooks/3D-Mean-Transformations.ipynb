{
 "cells": [
  {
   "cell_type": "code",
   "execution_count": 28,
   "metadata": {},
   "outputs": [],
   "source": [
    "import nibabel as nb\n",
    "import numpy as np\n",
    "import matplotlib.pyplot as plt\n",
    "import os"
   ]
  },
  {
   "cell_type": "markdown",
   "metadata": {},
   "source": [
    "# Load 3D Brain MRI image"
   ]
  },
  {
   "cell_type": "code",
   "execution_count": 49,
   "metadata": {},
   "outputs": [
    {
     "name": "stdout",
     "output_type": "stream",
     "text": [
      "The shape of 3D MRI is: (113, 137, 113)\n"
     ]
    }
   ],
   "source": [
    "# Load the .nii file using Nibabel\n",
    "image = nb.load('/Kaggle/GM_Images/CN/mwp1ACK005_V1_t1_mprage_sag_p2_iso_TA_5_03_MPR_cor.nii')\n",
    "\n",
    "# Transform the image in 3D-array format\n",
    "image_data = image.get_fdata()\n",
    "\n",
    "# Check the shape of 3D-MRI\n",
    "print(\"The shape of 3D MRI is:\",image_data.shape)"
   ]
  },
  {
   "cell_type": "code",
   "execution_count": null,
   "metadata": {},
   "outputs": [],
   "source": []
  },
  {
   "cell_type": "code",
   "execution_count": null,
   "metadata": {},
   "outputs": [],
   "source": []
  },
  {
   "cell_type": "code",
   "execution_count": 24,
   "metadata": {},
   "outputs": [],
   "source": [
    "class MeanTransformation():\n",
    "    \"\"\"3D-MR Mean Transformation\n",
    "\n",
    "    Parameters\n",
    "    ------------\n",
    "    filepath : str\n",
    "    Define the filepath of .nii image\n",
    "\n",
    "    axis : str, default = \"coronal\"\n",
    "    Define the axis of the brain\n",
    "\n",
    "    add_channel : bool, default = False\n",
    "    get_std : bool, default = False\n",
    "    \"\"\"\n",
    "    \n",
    "    _parameter_constraints: dict = {\n",
    "        \"axis\": ['coronal', 'axial', 'sagittal']\n",
    "    }\n",
    "\n",
    "    def __init__(\n",
    "        self,\n",
    "        filepath,\n",
    "        axis=\"coronal\",\n",
    "        add_channel=False,\n",
    "    ):\n",
    "        if axis not in self._parameter_constraints[\"axis\"]:\n",
    "            raise ValueError(f\"Invalid value for 'axis'. Allowed values are {self._parameter_constraints['axis']}\")\n",
    "\n",
    "        if not os.path.isfile(filepath):\n",
    "            raise ValueError(f\"Invalid file: {filepath}\")\n",
    "\n",
    "        self.axis = axis\n",
    "        self.add_channel = add_channel\n",
    "        self.filepath = filepath\n",
    "\n",
    "    def _load_nii(self, filepath):\n",
    "        image = nibabel.load(filepath)\n",
    "        image_data = image.get_fdata()\n",
    "\n",
    "        return image_data\n",
    "\n",
    "    def _get_axis_number(self, axis):\n",
    "        axis_info = {'sagittal': 0, 'axial': 1, 'coronal': 2}\n",
    "        return axis_info[axis]\n",
    "\n",
    "    def _get_mean_image(self, image):\n",
    "        axis_number = self._get_axis_number(self.axis)\n",
    "        mean_image = np.mean(image, axis=axis_number)\n",
    "        if self.add_channel:\n",
    "            norm_mean = (mean_image - np.min(mean_image)) / (np.max(mean_image) - np.min(mean_image))\n",
    "            mean_image = np.stack([norm_mean, norm_mean, norm_mean], axis=-1)\n",
    "\n",
    "        return mean_image\n",
    "\n",
    "    def _get_std_image(self, image):\n",
    "        axis_number = self._get_axis_number(self.axis)\n",
    "        std_image = np.mean(image, axis=axis_number)\n",
    "        if self.add_channel:\n",
    "            norm_std = (std_image - np.min(std_image)) / (np.max(std_image) - np.min(std_image))\n",
    "            std_image = np.stack([norm_std, norm_std, norm_std], axis=-1)\n",
    "\n",
    "        return std_image\n",
    "\n",
    "    def get_image(self):\n",
    "        image_data = self._load_nii(self.filepath)\n",
    "        mean_image = self._get_mean_image(image_data)\n",
    "        std_image = self._get_std_image(image_data)\n",
    "\n",
    "        return mean_image, std_image"
   ]
  },
  {
   "cell_type": "code",
   "execution_count": 25,
   "metadata": {},
   "outputs": [],
   "source": [
    "filepath = '/Kaggle/GM_Images/CN/mwp1ACK005_V1_t1_mprage_sag_p2_iso_TA_5_03_MPR_cor.nii'\n",
    "transformer = MeanTransformation(filepath=filepath)"
   ]
  },
  {
   "cell_type": "code",
   "execution_count": 27,
   "metadata": {},
   "outputs": [
    {
     "data": {
      "text/plain": [
       "(array([[0., 0., 0., ..., 0., 0., 0.],\n",
       "        [0., 0., 0., ..., 0., 0., 0.],\n",
       "        [0., 0., 0., ..., 0., 0., 0.],\n",
       "        ...,\n",
       "        [0., 0., 0., ..., 0., 0., 0.],\n",
       "        [0., 0., 0., ..., 0., 0., 0.],\n",
       "        [0., 0., 0., ..., 0., 0., 0.]]),\n",
       " array([[0., 0., 0., ..., 0., 0., 0.],\n",
       "        [0., 0., 0., ..., 0., 0., 0.],\n",
       "        [0., 0., 0., ..., 0., 0., 0.],\n",
       "        ...,\n",
       "        [0., 0., 0., ..., 0., 0., 0.],\n",
       "        [0., 0., 0., ..., 0., 0., 0.],\n",
       "        [0., 0., 0., ..., 0., 0., 0.]]))"
      ]
     },
     "execution_count": 27,
     "metadata": {},
     "output_type": "execute_result"
    }
   ],
   "source": [
    "mean_image = transformer.get_image()\n",
    "mean_image"
   ]
  }
 ],
 "metadata": {
  "kernelspec": {
   "display_name": "base",
   "language": "python",
   "name": "python3"
  },
  "language_info": {
   "codemirror_mode": {
    "name": "ipython",
    "version": 3
   },
   "file_extension": ".py",
   "mimetype": "text/x-python",
   "name": "python",
   "nbconvert_exporter": "python",
   "pygments_lexer": "ipython3",
   "version": "3.9.12"
  }
 },
 "nbformat": 4,
 "nbformat_minor": 2
}
